{
 "cells": [
  {
   "cell_type": "code",
   "execution_count": 1,
   "metadata": {},
   "outputs": [],
   "source": [
    "import pandas as pd\n",
    "from ortools.linear_solver import pywraplp\n",
    "from ortools.sat.python import cp_model\n"
   ]
  },
  {
   "cell_type": "markdown",
   "metadata": {},
   "source": [
    "## Ler Dados"
   ]
  },
  {
   "cell_type": "code",
   "execution_count": 2,
   "metadata": {},
   "outputs": [],
   "source": [
    "IdadePaciente = pd.read_excel(\"C:/unisoma/docs/cenario_2.xlsx\", sheet_name=\"IdadePaciente\")\n",
    "DisponPaciente = pd.read_excel(\"C:/unisoma/docs/cenario_2.xlsx\", sheet_name=\"DisponPaciente\")\n",
    "LocalPaciente = pd.read_excel(\"C:/unisoma/docs/cenario_2.xlsx\", sheet_name=\"LocalPaciente\")\n",
    "RegraProfissional = pd.read_excel(\"C:/unisoma/docs/cenario_2.xlsx\", sheet_name=\"RegraProfissional\")\n",
    "DisponProfissional = pd.read_excel(\"C:/unisoma/docs/cenario_2.xlsx\", sheet_name=\"DisponProfissional\")\n",
    "LocalProfissional = pd.read_excel(\"C:/unisoma/docs/cenario_2.xlsx\", sheet_name=\"LocalProfissional\")"
   ]
  },
  {
   "cell_type": "markdown",
   "metadata": {},
   "source": [
    "## Funcoes"
   ]
  },
  {
   "cell_type": "code",
   "execution_count": 3,
   "metadata": {},
   "outputs": [],
   "source": [
    "def clean1(df, col1):\n",
    "    df[col1] = df[col1].ffill()\n",
    "    return df\n",
    "\n",
    "def clean2(df, col1:str, col2:str, colname:str):\n",
    "    df = df.fillna(0)\n",
    "    df = df.map(lambda x: 1 if x in [\"X\", \"x\"] else x)\n",
    "    if col2 != \"\":\n",
    "        df = pd.melt(df, id_vars=[col1,col2], var_name=colname, value_name='valor')\n",
    "    else:\n",
    "        df = pd.melt(df, id_vars=[col1], var_name=colname, value_name='valor')\n",
    "\n",
    "    df[\"valor\"] = df[\"valor\"].astype(int)\n",
    "    return df"
   ]
  },
  {
   "cell_type": "markdown",
   "metadata": {},
   "source": [
    "## Limpeza"
   ]
  },
  {
   "cell_type": "code",
   "execution_count": 4,
   "metadata": {},
   "outputs": [],
   "source": [
    "DisponPaciente = clean1(DisponPaciente,'paciente')\n",
    "DisponPaciente =  clean2(DisponPaciente,  'paciente', 'dia_semana', 'hora')\n",
    "\n",
    "LocalPaciente = clean1(LocalPaciente,'paciente')\n",
    "LocalPaciente = clean2(LocalPaciente, 'paciente', 'dia_semana', 'lugar')\n",
    "\n",
    "DisponProfissional = clean1(DisponProfissional,'profissional')\n",
    "DisponProfissional = clean2(DisponProfissional, 'profissional', 'dia_semana', 'hora')\n",
    "\n",
    "RegraProfissional = clean1(RegraProfissional, \"profissional\")\n",
    "RegraProfissionalHoras = RegraProfissional[[\"profissional\",\"tipo\",\"horas_semana\"]]\n",
    "RegraProfissionalGente = RegraProfissional[[\"profissional\",\"infantil\",\"adolescente\",\"adulto\"]]\n",
    "RegraProfissionalGente = clean2(RegraProfissionalGente, 'profissional', \"\", 'tipoPaciente')\n",
    "\n",
    "LocalProfissional = clean1(LocalProfissional, \"profissional\")\n",
    "LocalProfissional = clean2(LocalProfissional, 'profissional', \"\", 'lugar')\n"
   ]
  },
  {
   "cell_type": "code",
   "execution_count": 5,
   "metadata": {},
   "outputs": [
    {
     "data": {
      "text/plain": [
       "array(['paciente1', 'paciente2', 'paciente3', 'paciente4'], dtype=object)"
      ]
     },
     "execution_count": 5,
     "metadata": {},
     "output_type": "execute_result"
    }
   ],
   "source": [
    "DisponPaciente[\"paciente\"].unique()"
   ]
  },
  {
   "cell_type": "markdown",
   "metadata": {},
   "source": [
    "## Conjuntos y Parametros"
   ]
  },
  {
   "cell_type": "code",
   "execution_count": 6,
   "metadata": {},
   "outputs": [],
   "source": [
    "# CONJUNTOS\n",
    "P = IdadePaciente[\"paciente\"].unique().tolist()\n",
    "E = RegraProfissionalHoras[\"profissional\"].unique().tolist()\n",
    "K = RegraProfissionalGente[\"tipoPaciente\"].unique().tolist()\n",
    "L = LocalProfissional[\"lugar\"].unique().tolist()\n",
    "H = DisponPaciente[\"hora\"].unique().tolist()\n",
    "D = DisponPaciente[\"dia_semana\"].unique().tolist()\n",
    "\n",
    "# PARAMETROS\n",
    "DPH = DisponPaciente.set_index(['paciente', 'dia_semana', 'hora'])['valor'].to_dict()\n",
    "DPL = LocalPaciente.set_index(['paciente', 'dia_semana', 'lugar'])['valor'].to_dict()\n",
    "NHD = RegraProfissionalHoras.set_index(['profissional'])['horas_semana'].to_dict()\n",
    "AP = RegraProfissionalGente.set_index(['profissional','tipoPaciente'])['valor'].to_dict()\n",
    "DEH = DisponProfissional.set_index(['profissional', 'dia_semana', 'hora'])['valor'].to_dict()\n",
    "DL = LocalProfissional.set_index(['profissional', 'lugar'])['valor'].to_dict()"
   ]
  },
  {
   "cell_type": "markdown",
   "metadata": {},
   "source": [
    "## Modelo"
   ]
  },
  {
   "cell_type": "code",
   "execution_count": 17,
   "metadata": {},
   "outputs": [
    {
     "name": "stdout",
     "output_type": "stream",
     "text": [
      "Solucao:\n",
      "x_('paciente1', 'profissional3', 'seg', 'hr_12', 'ASA - PÁSSAROS') Foi Atribuido\n",
      "x_('paciente2', 'profissional1', 'sáb', 'hr_18', 'virtual_epsi') Foi Atribuido\n",
      "x_('paciente3', 'profissional2', 'qui', 'hr_10', 'INSTITUTO BORBOLETA AZUL') Foi Atribuido\n",
      "x_('paciente4', 'profissional4', 'sáb', 'hr_16', 'ASA - SANTA MÔNICA') Foi Atribuido\n",
      "\n",
      "FO:  4.0\n"
     ]
    }
   ],
   "source": [
    "# Crear el solver (CBC, para programación entera mixta)\n",
    "# model = pywraplp.Solver.CreateSolver('GLOP')  # Usa 'GLOP' para programación lineal o 'SCIP' para programación entera\n",
    "model = cp_model.CpModel()\n",
    "\n",
    "#criar as variaveis de desicao\n",
    "x = {}\n",
    "for i in P:\n",
    "    for j in E:\n",
    "        for d in D:\n",
    "            for h in H:\n",
    "                for l in L:\n",
    "                    x[(i, j, d, h, l)] = model.NewBoolVar(f'var_{i}_{j}_{d}_{h}_{l}')\n",
    "\n",
    "# Criar a Funcao Objetivo\n",
    "model.Maximize(sum(x[i,j,d,h,l] for i in P for j in E for d in D for h in H for l in L))\n",
    "\n",
    "\n",
    "# CRIAR AS RESTRICOES\n",
    "\n",
    "# Capacidade semanal de cada profissional\n",
    "for j in E:\n",
    "    model.Add(sum(x[(i,j,d,h,l)]  for i in P for d in D for h in H for l in L) <= NHD[j])\n",
    "\n",
    "\n",
    "# Cada profissional deve atender no máximo um paciente em cada horario\n",
    "for j in E:\n",
    "    for d in D:\n",
    "        for h in H:\n",
    "            model.Add(sum(x[(i,j,d,h,l)]  for i in P for l in L) <= 1)\n",
    "\n",
    "\n",
    "# Cada paciente so tem uma sessao semanal como máximo\n",
    "for i in P:\n",
    "    model.Add(sum(x[(i,j,d,h,l)]  for j in E for d in D for h in H for l in L) <= 1)\n",
    "\n",
    "\n",
    "# Para cada Doutor, para cada dia, fara-se atendimentos em máximo um lugar\n",
    "for j in E:\n",
    "    for d in D:\n",
    "        model.Add(sum(x[(i,j,d,h,l)]  for i in P for h in H for l in L if j != \"virtual_epsi\") <= 1)\n",
    "\n",
    "\n",
    "# Cada medico atendera nas franjas horarias disponibles\n",
    "for j in E:\n",
    "    for d in D:\n",
    "        for h in H:\n",
    "            model.Add(sum(x[(i,j,d,h,l)]  for i in P for l in L) <= DEH[j,d,h])\n",
    "\n",
    "\n",
    "# Cada paciente será atendido nas franjas horarias disponibles\n",
    "for i in P:\n",
    "    for d in D:\n",
    "        for h in H:\n",
    "            model.Add(sum(x[(i,j,d,h,l)]  for j in E for l in L) <= DPH[(i,d,h)])\n",
    "\n",
    "\n",
    "for j in E:\n",
    "    for l in L:\n",
    "        model.Add(sum(x[(i,j,d,h,l)]  for i in P for d in D for h in H) <= DL[(j,l)])\n",
    "\n",
    "\n",
    "\n",
    "# Criar o solucionador\n",
    "solver = cp_model.CpSolver()\n",
    "\n",
    "# Resolver o modelo\n",
    "status = solver.Solve(model)\n",
    "\n",
    "resultado = pd.DataFrame(columns=[\"Paciente\",\"Profesional\",\"Dia\",\"Hora\",\"Lugar\",\"Valor\"])\n",
    "\n",
    "# Imprimir os resultados\n",
    "if status == cp_model.OPTIMAL or status == cp_model.FEASIBLE:\n",
    "    print('Solucao:')\n",
    "    for key, var in x.items():\n",
    "        if solver.Value(var) == 1:\n",
    "            newRegistro = pd.DataFrame({'Paciente': [key[0]], 'Profesional': [key[1]], 'Dia': [key[2]],'Hora': [key[3]], 'Lugar': [key[4]], 'Valor': [solver.Value(var)]})\n",
    "            resultado = pd.concat([resultado, newRegistro], ignore_index=True)\n",
    "            print(f'x_{key} Foi Atribuido')\n",
    "\n",
    "    print(\"\")\n",
    "    print(\"FO: \",solver.objective_value)\n",
    "else:\n",
    "    print('Sem Solucao')\n",
    "\n",
    "resultado.to_excel(\"resultado.xlsx\", index=False)"
   ]
  },
  {
   "cell_type": "code",
   "execution_count": null,
   "metadata": {},
   "outputs": [],
   "source": []
  },
  {
   "cell_type": "code",
   "execution_count": 9,
   "metadata": {},
   "outputs": [
    {
     "data": {
      "text/plain": [
       "[[x[0,0], x[0,1], x[0,2]], [x[1,0], x[1,1], x[1,2]], [x[2,0], x[2,1], x[2,2]]]"
      ]
     },
     "execution_count": 9,
     "metadata": {},
     "output_type": "execute_result"
    }
   ],
   "source": [
    "\n",
    "# Crear el solver (CBC, para programación entera mixta)\n",
    "solver = pywraplp.Solver.CreateSolver('CBC')\n",
    "\n",
    "# Definir el número de personas y trabajos\n",
    "n = 3  # Puedes cambiarlo a más personas/trabajos\n",
    "\n",
    "# Ejemplo de matriz de costos\n",
    "costos = [\n",
    "    [90, 76, 75],\n",
    "    [35, 85, 55],\n",
    "    [125, 95, 90]\n",
    "]\n",
    "\n",
    "# Definir variables binarias x[i][j]: si la persona i está asignada al trabajo j\n",
    "x = []\n",
    "for i in range(n):\n",
    "    x.append([solver.BoolVar(f'x[{i},{j}]') for j in range(n)])\n",
    "\n",
    "# # Restricción 1: Cada persona solo puede hacer un trabajo\n",
    "# for i in range(n):\n",
    "#     solver.Add(solver.Sum(x[i][j] for j in range(n)) == 1)\n",
    "\n",
    "# # Restricción 2: Cada trabajo solo puede ser hecho por una persona\n",
    "# for j in range(n):\n",
    "#     solver.Add(solver.Sum(x[i][j] for i in range(n)) == 1)\n",
    "\n",
    "# # Definir la función objetivo: minimizar el costo total\n",
    "# solver.Minimize(solver.Sum(costos[i][j] * x[i][j] for i in range(n) for j in range(n)))\n",
    "\n",
    "# # Resolver el problema\n",
    "# status = solver.Solve()\n",
    "\n",
    "# # Imprimir los resultados\n",
    "# if status == pywraplp.Solver.OPTIMAL:\n",
    "#     print('Solución óptima encontrada:')\n",
    "#     for i in range(n):\n",
    "#         for j in range(n):\n",
    "#             if x[i][j].solution_value() == 1:\n",
    "#                 print(f'Persona {i} asignada al trabajo {j} con un costo de {costos[i][j]}')\n",
    "#     print(f'Costo total mínimo: {solver.Objective().Value()}')\n",
    "# else:\n",
    "#     print('No se encontró solución óptima.')\n",
    "x"
   ]
  },
  {
   "cell_type": "code",
   "execution_count": 10,
   "metadata": {},
   "outputs": [
    {
     "name": "stdout",
     "output_type": "stream",
     "text": [
      "Solución:\n",
      "x = 5.999999999999998\n",
      "y = 3.9999999999999996\n",
      "Valor óptimo = 33.99999999999999\n"
     ]
    }
   ],
   "source": [
    "from ortools.linear_solver import pywraplp\n",
    "\n",
    "# Crear el solver (usaremos el método de simplex)\n",
    "solver = pywraplp.Solver.CreateSolver('GLOP')\n",
    "\n",
    "# Definir las variables x y y\n",
    "x = solver.NumVar(0, solver.infinity(), 'x')\n",
    "y = solver.NumVar(0, solver.infinity(), 'y')\n",
    "\n",
    "# Definir las restricciones\n",
    "solver.Add(x + 2 * y <= 14)\n",
    "solver.Add(3 * x - y >= 0)\n",
    "solver.Add(x - y <= 2)\n",
    "\n",
    "# Definir la función objetivo (maximizar 3x + 4y)\n",
    "solver.Maximize(3 * x + 4 * y)\n",
    "\n",
    "# Resolver el problema\n",
    "status = solver.Solve()\n",
    "\n",
    "# Imprimir los resultados\n",
    "if status == pywraplp.Solver.OPTIMAL:\n",
    "    print('Solución:')\n",
    "    print(f'x = {x.solution_value()}')\n",
    "    print(f'y = {y.solution_value()}')\n",
    "    print(f'Valor óptimo = {solver.Objective().Value()}')\n",
    "else:\n",
    "    print('El problema no tiene solución óptima.')\n"
   ]
  }
 ],
 "metadata": {
  "kernelspec": {
   "display_name": "envUnisoma",
   "language": "python",
   "name": "python3"
  },
  "language_info": {
   "codemirror_mode": {
    "name": "ipython",
    "version": 3
   },
   "file_extension": ".py",
   "mimetype": "text/x-python",
   "name": "python",
   "nbconvert_exporter": "python",
   "pygments_lexer": "ipython3",
   "version": "3.12.7"
  }
 },
 "nbformat": 4,
 "nbformat_minor": 2
}
